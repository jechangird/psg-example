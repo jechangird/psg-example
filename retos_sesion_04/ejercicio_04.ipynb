{
 "cells": [
  {
   "cell_type": "markdown",
   "metadata": {},
   "source": [
    "# Reglas de mi juego favorito: \"Juguemos a Dormir\"\n",
    "1. necesitas una cama\n",
    "2. Te acuestas\n",
    "3. te duermes\n",
    "4. fin"
   ]
  },
  {
   "cell_type": "code",
   "execution_count": 2,
   "metadata": {},
   "outputs": [
    {
     "name": "stdout",
     "output_type": "stream",
     "text": [
      "*********\n",
      "*   @   *\n",
      "*  /\\   *\n",
      "*  []   *\n",
      "*  /\\   *\n",
      "*********\n"
     ]
    },
    {
     "name": "stderr",
     "output_type": "stream",
     "text": [
      "<>:3: SyntaxWarning: invalid escape sequence '\\ '\n",
      "<>:5: SyntaxWarning: invalid escape sequence '\\ '\n",
      "<>:3: SyntaxWarning: invalid escape sequence '\\ '\n",
      "<>:5: SyntaxWarning: invalid escape sequence '\\ '\n",
      "C:\\Users\\JoseChanir\\AppData\\Local\\Temp\\ipykernel_1328\\449187317.py:3: SyntaxWarning: invalid escape sequence '\\ '\n",
      "  print('*  /\\   *')\n",
      "C:\\Users\\JoseChanir\\AppData\\Local\\Temp\\ipykernel_1328\\449187317.py:5: SyntaxWarning: invalid escape sequence '\\ '\n",
      "  print('*  /\\   *')\n"
     ]
    }
   ],
   "source": [
    "print('*********')\n",
    "print('*   @   *')\n",
    "print('*  /\\   *')\n",
    "print('*  []   *')\n",
    "print('*  /\\   *')\n",
    "print('*********')"
   ]
  }
 ],
 "metadata": {
  "kernelspec": {
   "display_name": "Python 3",
   "language": "python",
   "name": "python3"
  },
  "language_info": {
   "codemirror_mode": {
    "name": "ipython",
    "version": 3
   },
   "file_extension": ".py",
   "mimetype": "text/x-python",
   "name": "python",
   "nbconvert_exporter": "python",
   "pygments_lexer": "ipython3",
   "version": "3.12.4"
  }
 },
 "nbformat": 4,
 "nbformat_minor": 2
}
