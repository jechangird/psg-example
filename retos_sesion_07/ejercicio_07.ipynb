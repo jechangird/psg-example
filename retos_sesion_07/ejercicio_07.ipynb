{
 "cells": [
  {
   "cell_type": "markdown",
   "metadata": {},
   "source": [
    "# Convertir y ejecutar el archivo de la \"sesion07.py\" a un archivo en jupyter notebook\n",
    "\n"
   ]
  }
 ],
 "metadata": {
  "language_info": {
   "name": "python"
  }
 },
 "nbformat": 4,
 "nbformat_minor": 2
}
